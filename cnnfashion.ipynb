{
  "nbformat": 4,
  "nbformat_minor": 0,
  "metadata": {
    "colab": {
      "name": "cnnipynb",
      "provenance": [],
      "collapsed_sections": [],
      "authorship_tag": "ABX9TyP8ZXvj1DQh7GhVkSJcsbh7",
      "include_colab_link": true
    },
    "kernelspec": {
      "name": "python3",
      "display_name": "Python 3"
    }
  },
  "cells": [
    {
      "cell_type": "markdown",
      "metadata": {
        "id": "view-in-github",
        "colab_type": "text"
      },
      "source": [
        "<a href=\"https://colab.research.google.com/github/Sandeep45-cyber/CNN/blob/main/cnnfashion.ipynb\" target=\"_parent\"><img src=\"https://colab.research.google.com/assets/colab-badge.svg\" alt=\"Open In Colab\"/></a>"
      ]
    },
    {
      "cell_type": "code",
      "metadata": {
        "id": "bW2fnDAGW47v"
      },
      "source": [
        "import numpy as np\n",
        "import pandas as pd\n",
        "import matplotlib as mpl\n",
        "import matplotlib.pyplot as plt\n"
      ],
      "execution_count": 40,
      "outputs": []
    },
    {
      "cell_type": "code",
      "metadata": {
        "id": "S7GeS08We1u5"
      },
      "source": [
        "import tensorflow as tf\n",
        "from tensorflow import keras"
      ],
      "execution_count": 41,
      "outputs": []
    },
    {
      "cell_type": "code",
      "metadata": {
        "id": "YQq7pfeCe8VO",
        "colab": {
          "base_uri": "https://localhost:8080/"
        },
        "outputId": "7e05fca3-66ac-4a32-90e0-e80fdb5ccd71"
      },
      "source": [
        "tf.keras.datasets.fashion_mnist.load_data()"
      ],
      "execution_count": 43,
      "outputs": [
        {
          "output_type": "execute_result",
          "data": {
            "text/plain": [
              "((array([[[0, 0, 0, ..., 0, 0, 0],\n",
              "          [0, 0, 0, ..., 0, 0, 0],\n",
              "          [0, 0, 0, ..., 0, 0, 0],\n",
              "          ...,\n",
              "          [0, 0, 0, ..., 0, 0, 0],\n",
              "          [0, 0, 0, ..., 0, 0, 0],\n",
              "          [0, 0, 0, ..., 0, 0, 0]],\n",
              "  \n",
              "         [[0, 0, 0, ..., 0, 0, 0],\n",
              "          [0, 0, 0, ..., 0, 0, 0],\n",
              "          [0, 0, 0, ..., 0, 0, 0],\n",
              "          ...,\n",
              "          [0, 0, 0, ..., 0, 0, 0],\n",
              "          [0, 0, 0, ..., 0, 0, 0],\n",
              "          [0, 0, 0, ..., 0, 0, 0]],\n",
              "  \n",
              "         [[0, 0, 0, ..., 0, 0, 0],\n",
              "          [0, 0, 0, ..., 0, 0, 0],\n",
              "          [0, 0, 0, ..., 0, 0, 0],\n",
              "          ...,\n",
              "          [0, 0, 0, ..., 0, 0, 0],\n",
              "          [0, 0, 0, ..., 0, 0, 0],\n",
              "          [0, 0, 0, ..., 0, 0, 0]],\n",
              "  \n",
              "         ...,\n",
              "  \n",
              "         [[0, 0, 0, ..., 0, 0, 0],\n",
              "          [0, 0, 0, ..., 0, 0, 0],\n",
              "          [0, 0, 0, ..., 0, 0, 0],\n",
              "          ...,\n",
              "          [0, 0, 0, ..., 0, 0, 0],\n",
              "          [0, 0, 0, ..., 0, 0, 0],\n",
              "          [0, 0, 0, ..., 0, 0, 0]],\n",
              "  \n",
              "         [[0, 0, 0, ..., 0, 0, 0],\n",
              "          [0, 0, 0, ..., 0, 0, 0],\n",
              "          [0, 0, 0, ..., 0, 0, 0],\n",
              "          ...,\n",
              "          [0, 0, 0, ..., 0, 0, 0],\n",
              "          [0, 0, 0, ..., 0, 0, 0],\n",
              "          [0, 0, 0, ..., 0, 0, 0]],\n",
              "  \n",
              "         [[0, 0, 0, ..., 0, 0, 0],\n",
              "          [0, 0, 0, ..., 0, 0, 0],\n",
              "          [0, 0, 0, ..., 0, 0, 0],\n",
              "          ...,\n",
              "          [0, 0, 0, ..., 0, 0, 0],\n",
              "          [0, 0, 0, ..., 0, 0, 0],\n",
              "          [0, 0, 0, ..., 0, 0, 0]]], dtype=uint8),\n",
              "  array([9, 0, 0, ..., 3, 0, 5], dtype=uint8)),\n",
              " (array([[[0, 0, 0, ..., 0, 0, 0],\n",
              "          [0, 0, 0, ..., 0, 0, 0],\n",
              "          [0, 0, 0, ..., 0, 0, 0],\n",
              "          ...,\n",
              "          [0, 0, 0, ..., 0, 0, 0],\n",
              "          [0, 0, 0, ..., 0, 0, 0],\n",
              "          [0, 0, 0, ..., 0, 0, 0]],\n",
              "  \n",
              "         [[0, 0, 0, ..., 0, 0, 0],\n",
              "          [0, 0, 0, ..., 0, 0, 0],\n",
              "          [0, 0, 0, ..., 0, 0, 0],\n",
              "          ...,\n",
              "          [0, 0, 0, ..., 0, 0, 0],\n",
              "          [0, 0, 0, ..., 0, 0, 0],\n",
              "          [0, 0, 0, ..., 0, 0, 0]],\n",
              "  \n",
              "         [[0, 0, 0, ..., 0, 0, 0],\n",
              "          [0, 0, 0, ..., 0, 0, 0],\n",
              "          [0, 0, 0, ..., 0, 0, 0],\n",
              "          ...,\n",
              "          [0, 0, 0, ..., 0, 0, 0],\n",
              "          [0, 0, 0, ..., 0, 0, 0],\n",
              "          [0, 0, 0, ..., 0, 0, 0]],\n",
              "  \n",
              "         ...,\n",
              "  \n",
              "         [[0, 0, 0, ..., 0, 0, 0],\n",
              "          [0, 0, 0, ..., 0, 0, 0],\n",
              "          [0, 0, 0, ..., 0, 0, 0],\n",
              "          ...,\n",
              "          [0, 0, 0, ..., 0, 0, 0],\n",
              "          [0, 0, 0, ..., 0, 0, 0],\n",
              "          [0, 0, 0, ..., 0, 0, 0]],\n",
              "  \n",
              "         [[0, 0, 0, ..., 0, 0, 0],\n",
              "          [0, 0, 0, ..., 0, 0, 0],\n",
              "          [0, 0, 0, ..., 0, 0, 0],\n",
              "          ...,\n",
              "          [0, 0, 0, ..., 0, 0, 0],\n",
              "          [0, 0, 0, ..., 0, 0, 0],\n",
              "          [0, 0, 0, ..., 0, 0, 0]],\n",
              "  \n",
              "         [[0, 0, 0, ..., 0, 0, 0],\n",
              "          [0, 0, 0, ..., 0, 0, 0],\n",
              "          [0, 0, 0, ..., 0, 0, 0],\n",
              "          ...,\n",
              "          [0, 0, 0, ..., 0, 0, 0],\n",
              "          [0, 0, 0, ..., 0, 0, 0],\n",
              "          [0, 0, 0, ..., 0, 0, 0]]], dtype=uint8),\n",
              "  array([9, 2, 1, ..., 8, 1, 5], dtype=uint8)))"
            ]
          },
          "metadata": {
            "tags": []
          },
          "execution_count": 43
        }
      ]
    },
    {
      "cell_type": "code",
      "metadata": {
        "id": "xyfMWOIzfwZD"
      },
      "source": [
        "fashion_mnist = keras.datasets.fashion_mnist\n",
        "(xtrain_f,ytrain_f),(xtest,ytest) = fashion_mnist.load_data()          "
      ],
      "execution_count": 44,
      "outputs": []
    },
    {
      "cell_type": "code",
      "metadata": {
        "id": "Jz2M1EQOgb9u"
      },
      "source": [
        "class_names = [\"T-shirt\",\"Trouser\",\"Pullover\",\"Dress\",\"Coat\",\"Sandal\",\"Shirt\",\"Sneaker\",\"Bag\",\"Ankle boot\"]"
      ],
      "execution_count": 45,
      "outputs": []
    },
    {
      "cell_type": "code",
      "metadata": {
        "id": "UOEMSVYFP_GL"
      },
      "source": [
        "xtrain_f = xtrain_f.reshape((60000,28,28,1))\n",
        "xtest = xtest.reshape((10000,28,28,1 ))"
      ],
      "execution_count": 46,
      "outputs": []
    },
    {
      "cell_type": "code",
      "metadata": {
        "id": "5GacHGSpRM2R"
      },
      "source": [
        "xtrain_n = xtrain_f/255.\n",
        "xtest_n = xtest/255."
      ],
      "execution_count": 47,
      "outputs": []
    },
    {
      "cell_type": "code",
      "metadata": {
        "id": "iYmkm62lRYhB"
      },
      "source": [
        "x_valid,xtrain = xtrain_n[:5000],xtrain_n[5000:]\n",
        "y_valid,ytrain = ytrain_f[:5000],ytrain_f[5000:]\n",
        "xtest = xtest_n"
      ],
      "execution_count": 48,
      "outputs": []
    },
    {
      "cell_type": "code",
      "metadata": {
        "id": "h8osxJa-SNeb"
      },
      "source": [
        "np.random.seed(50)\n",
        "tf.random.set_seed(50)"
      ],
      "execution_count": 58,
      "outputs": []
    },
    {
      "cell_type": "code",
      "metadata": {
        "id": "hGC6RffBSqfg"
      },
      "source": [
        "model =keras.models.Sequential()\n",
        "model.add(keras.layers.Conv2D(filters = 32, kernel_size = (4, 4), strides=1, padding = 'valid', activation = 'relu',input_shape = (28,28,1)))\n",
        "model.add(keras.layers.MaxPooling2D((2,2)))\n",
        "\n",
        "model.add(keras.layers.Flatten())\n",
        "model.add(keras.layers.Dense(300,activation=\"relu\"))\n",
        "model.add(keras.layers.Dense(100,activation=\"relu\"))\n",
        "model.add(keras.layers.Dense(10,activation=\"softmax\"))"
      ],
      "execution_count": 61,
      "outputs": []
    },
    {
      "cell_type": "code",
      "metadata": {
        "id": "T-mfOXyqWTbQ"
      },
      "source": [
        "model.compile(loss=\"sparse_categorical_crossentropy\",\n",
        "              optimizer=\"sgd\",\n",
        "              metrics=[\"accuracy\"])"
      ],
      "execution_count": 62,
      "outputs": []
    },
    {
      "cell_type": "code",
      "metadata": {
        "id": "ETs-jFe1W3ly",
        "colab": {
          "base_uri": "https://localhost:8080/"
        },
        "outputId": "28c7f35d-b423-4f73-f836-2fd7527448f5"
      },
      "source": [
        "model_history = model.fit(xtrain,ytrain,epochs=15,batch_size=64,\n",
        "                    validation_data=(x_valid,y_valid))"
      ],
      "execution_count": 63,
      "outputs": [
        {
          "output_type": "stream",
          "text": [
            "Epoch 1/15\n",
            "860/860 [==============================] - 33s 39ms/step - loss: 0.8922 - accuracy: 0.7029 - val_loss: 0.6196 - val_accuracy: 0.7602\n",
            "Epoch 2/15\n",
            "860/860 [==============================] - 33s 38ms/step - loss: 0.5525 - accuracy: 0.7973 - val_loss: 0.5868 - val_accuracy: 0.7758\n",
            "Epoch 3/15\n",
            "860/860 [==============================] - 32s 38ms/step - loss: 0.4912 - accuracy: 0.8218 - val_loss: 0.5002 - val_accuracy: 0.8142\n",
            "Epoch 4/15\n",
            "860/860 [==============================] - 32s 38ms/step - loss: 0.4528 - accuracy: 0.8373 - val_loss: 0.6033 - val_accuracy: 0.7828\n",
            "Epoch 5/15\n",
            "860/860 [==============================] - 32s 38ms/step - loss: 0.4261 - accuracy: 0.8472 - val_loss: 0.4121 - val_accuracy: 0.8536\n",
            "Epoch 6/15\n",
            "860/860 [==============================] - 32s 38ms/step - loss: 0.4015 - accuracy: 0.8562 - val_loss: 0.3855 - val_accuracy: 0.8662\n",
            "Epoch 7/15\n",
            "860/860 [==============================] - 32s 38ms/step - loss: 0.3813 - accuracy: 0.8633 - val_loss: 0.3732 - val_accuracy: 0.8678\n",
            "Epoch 8/15\n",
            "860/860 [==============================] - 32s 38ms/step - loss: 0.3674 - accuracy: 0.8671 - val_loss: 0.4689 - val_accuracy: 0.8152\n",
            "Epoch 9/15\n",
            "860/860 [==============================] - 32s 38ms/step - loss: 0.3538 - accuracy: 0.8734 - val_loss: 0.3595 - val_accuracy: 0.8672\n",
            "Epoch 10/15\n",
            "860/860 [==============================] - 32s 38ms/step - loss: 0.3422 - accuracy: 0.8751 - val_loss: 0.3433 - val_accuracy: 0.8794\n",
            "Epoch 11/15\n",
            "860/860 [==============================] - 33s 38ms/step - loss: 0.3308 - accuracy: 0.8802 - val_loss: 0.3456 - val_accuracy: 0.8810\n",
            "Epoch 12/15\n",
            "860/860 [==============================] - 32s 38ms/step - loss: 0.3198 - accuracy: 0.8836 - val_loss: 0.3569 - val_accuracy: 0.8760\n",
            "Epoch 13/15\n",
            "860/860 [==============================] - 32s 38ms/step - loss: 0.3122 - accuracy: 0.8867 - val_loss: 0.3305 - val_accuracy: 0.8848\n",
            "Epoch 14/15\n",
            "860/860 [==============================] - 32s 38ms/step - loss: 0.3038 - accuracy: 0.8895 - val_loss: 0.3725 - val_accuracy: 0.8616\n",
            "Epoch 15/15\n",
            "860/860 [==============================] - 32s 38ms/step - loss: 0.2952 - accuracy: 0.8931 - val_loss: 0.3232 - val_accuracy: 0.8882\n"
          ],
          "name": "stdout"
        }
      ]
    },
    {
      "cell_type": "code",
      "metadata": {
        "id": "ZySb6bvsXb55",
        "colab": {
          "base_uri": "https://localhost:8080/",
          "height": 671
        },
        "outputId": "50a3a7e9-326e-4ab4-956b-85f487cb9746"
      },
      "source": [
        "import pandas as pd\n",
        "\n",
        "pd.DataFrame(model_history.history).plot(figsize=(8,5))\n",
        "plt.grid(True)\n",
        "plt.gca().set_ylim(0,1)\n",
        "plt.show()\n",
        "model.summary()"
      ],
      "execution_count": 66,
      "outputs": [
        {
          "output_type": "display_data",
          "data": {
            "image/png": "[encoded data removed]",
            "text/plain": [
              "<Figure size 576x360 with 1 Axes>"
            ]
          },
          "metadata": {
            "tags": [],
            "needs_background": "light"
          }
        },
        {
          "output_type": "stream",
          "text": [
            "Model: \"sequential_10\"\n",
            "_________________________________________________________________\n",
            "Layer (type)                 Output Shape              Param #   \n",
            "=================================================================\n",
            "conv2d_10 (Conv2D)           (None, 25, 25, 32)        544       \n",
            "_________________________________________________________________\n",
            "max_pooling2d_10 (MaxPooling (None, 12, 12, 32)        0         \n",
            "_________________________________________________________________\n",
            "flatten_10 (Flatten)         (None, 4608)              0         \n",
            "_________________________________________________________________\n",
            "dense_30 (Dense)             (None, 300)               1382700   \n",
            "_________________________________________________________________\n",
            "dense_31 (Dense)             (None, 100)               30100     \n",
            "_________________________________________________________________\n",
            "dense_32 (Dense)             (None, 10)                1010      \n",
            "=================================================================\n",
            "Total params: 1,414,354\n",
            "Trainable params: 1,414,354\n",
            "Non-trainable params: 0\n",
            "_________________________________________________________________\n"
          ],
          "name": "stdout"
        }
      ]
    },
    {
      "cell_type": "code",
      "metadata": {
        "id": "_O3kZLjrWQ1w",
        "colab": {
          "base_uri": "https://localhost:8080/"
        },
        "outputId": "3eded0ae-c23b-4b91-c731-89041511b49a"
      },
      "source": [
        "e = model.evaluate(xtest_n,ytest)\n",
        "e"
      ],
      "execution_count": 73,
      "outputs": [
        {
          "output_type": "stream",
          "text": [
            "313/313 [==============================] - 2s 7ms/step - loss: 0.3408 - accuracy: 0.8752\n"
          ],
          "name": "stdout"
        },
        {
          "output_type": "execute_result",
          "data": {
            "text/plain": [
              "[0.3407987058162689, 0.8751999735832214]"
            ]
          },
          "metadata": {
            "tags": []
          },
          "execution_count": 73
        }
      ]
    },
    {
      "cell_type": "code",
      "metadata": {
        "id": "zyYWiAgabOfm"
      },
      "source": [
        "x_new = xtest[:5]"
      ],
      "execution_count": 74,
      "outputs": []
    },
    {
      "cell_type": "code",
      "metadata": {
        "id": "70ZhfXcRbYep",
        "colab": {
          "base_uri": "https://localhost:8080/"
        },
        "outputId": "f8671c44-2875-4808-904c-6014189ea41a"
      },
      "source": [
        "yprediction = model.predict_classes(x_new)\n",
        "yprediction"
      ],
      "execution_count": 75,
      "outputs": [
        {
          "output_type": "execute_result",
          "data": {
            "text/plain": [
              "array([9, 2, 1, 1, 6])"
            ]
          },
          "metadata": {
            "tags": []
          },
          "execution_count": 75
        }
      ]
    },
    {
      "cell_type": "code",
      "metadata": {
        "id": "NdZMQuIFbiSm",
        "colab": {
          "base_uri": "https://localhost:8080/"
        },
        "outputId": "fc02156a-1001-49ac-8c87-2d5b0ddf9cfd"
      },
      "source": [
        "ytest[:5]"
      ],
      "execution_count": 76,
      "outputs": [
        {
          "output_type": "execute_result",
          "data": {
            "text/plain": [
              "array([9, 2, 1, 1, 6], dtype=uint8)"
            ]
          },
          "metadata": {
            "tags": []
          },
          "execution_count": 76
        }
      ]
    },
    {
      "cell_type": "code",
      "metadata": {
        "id": "OmvH_eHDbqdx",
        "colab": {
          "base_uri": "https://localhost:8080/",
          "height": 282
        },
        "outputId": "0da9aac4-7b53-4693-af36-63971f0f52fd"
      },
      "source": [
        "print(plt.imshow(xtest[5].reshape((28,28))))"
      ],
      "execution_count": 77,
      "outputs": [
        {
          "output_type": "stream",
          "text": [
            "AxesImage(54,36;334.8x217.44)\n"
          ],
          "name": "stdout"
        },
        {
          "output_type": "display_data",
          "data": {
            "image/png": "[encoded data removed]",
            "text/plain": [
              "<Figure size 432x288 with 1 Axes>"
            ]
          },
          "metadata": {
            "tags": [],
            "needs_background": "light"
          }
        }
      ]
    },
    {
      "cell_type": "code",
      "metadata": {
        "id": "uF1xJssZcgqE",
        "colab": {
          "base_uri": "https://localhost:8080/"
        },
        "outputId": "88551e42-b9cb-4194-b810-b829568eab1a"
      },
      "source": [
        "keras.backend.clear_session"
      ],
      "execution_count": null,
      "outputs": [
        {
          "output_type": "execute_result",
          "data": {
            "text/plain": [
              "<function tensorflow.python.keras.backend.clear_session>"
            ]
          },
          "metadata": {
            "tags": []
          },
          "execution_count": 26
        }
      ]
    },
    {
      "cell_type": "code",
      "metadata": {
        "id": "2-jpE_OkcopN"
      },
      "source": [
        "del model"
      ],
      "execution_count": null,
      "outputs": []
    },
    {
      "cell_type": "code",
      "metadata": {
        "id": "ZsRLNgK4cqd3"
      },
      "source": [
        ""
      ],
      "execution_count": null,
      "outputs": []
    },
    {
      "cell_type": "code",
      "metadata": {
        "id": "w_hPf37fWLVb"
      },
      "source": [
        ""
      ],
      "execution_count": null,
      "outputs": []
    },
    {
      "cell_type": "code",
      "metadata": {
        "id": "5SeGsR0SVp38"
      },
      "source": [
        ""
      ],
      "execution_count": null,
      "outputs": []
    },
    {
      "cell_type": "code",
      "metadata": {
        "id": "mlO7FEJvU9-f"
      },
      "source": [
        ""
      ],
      "execution_count": null,
      "outputs": []
    },
    {
      "cell_type": "code",
      "metadata": {
        "id": "LJEBC5H_UmgI"
      },
      "source": [
        ""
      ],
      "execution_count": null,
      "outputs": []
    },
    {
      "cell_type": "code",
      "metadata": {
        "id": "YssH3PORgmF2"
      },
      "source": [
        ""
      ],
      "execution_count": null,
      "outputs": []
    },
    {
      "cell_type": "code",
      "metadata": {
        "id": "8ESu9NYjgAKi"
      },
      "source": [
        ""
      ],
      "execution_count": null,
      "outputs": []
    },
    {
      "cell_type": "code",
      "metadata": {
        "id": "vH5cYE5zfh2H"
      },
      "source": [
        ""
      ],
      "execution_count": null,
      "outputs": []
    }
  ]
}